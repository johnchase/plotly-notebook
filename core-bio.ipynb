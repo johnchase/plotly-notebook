{
 "cells": [
  {
   "cell_type": "markdown",
   "metadata": {},
   "source": [
    "# Visualizing core bioinformatics data with plot.ly"
   ]
  },
  {
   "cell_type": "markdown",
   "metadata": {},
   "source": [
    "## Introduction\n",
    "This notebook is based on [An Introduction to Bioinformatics](http://readiab.org/). This notebook will follow the progress of the textbook but the textbook should be consulted for more details.  \n",
    "\n",
    "This note book will cover the fundamentals of bioinformatics - how to interact with with raw sequence data, sequence alignment, and tree building. These are the most basic steps in bioinformatics and most analyses are based on these, or similar processes.\n",
    "\n",
    "This notebook will cover:\n",
    "1. Sequence Quality\n",
    "2. Sequence Alignment\n",
    "3. Tree building\n",
    "\n"
   ]
  },
  {
   "cell_type": "markdown",
   "metadata": {},
   "source": [
    "### [What is the best place to host this data?]\n",
    "The dataset we will be using is from [Geography and Location Are the Primary Drivers of Office Microbiome Composition](http://msystems.asm.org/content/1/2/e00022-16) The data represented in 1AM1JR7QWMSFA.fastq is raw sequence data from an illumona MiSeq of the bacterial 16S rRNA gene. The sequences present are from a single sample that was taken from the floor of an office in Flagstaff Arizona."
   ]
  },
  {
   "cell_type": "code",
   "execution_count": null,
   "metadata": {
    "collapsed": false
   },
   "outputs": [],
   "source": [
    "import plotly.offline as py\n",
    "py.offline.init_notebook_mode()\n",
    "\n",
    "import plotly.graph_objs as go\n",
    "from plotly.tools import FigureFactory as FF\n",
    "import colorlover as cl\n",
    "\n",
    "import skbio\n",
    "from skbio.alignment import global_pairwise_align_nucleotide\n",
    "from skbio.sequence import DNA\n",
    "import pandas as pd\n",
    "import itertools\n",
    "import numpy as np\n",
    "from iab.algorithms import tree_from_distance_matrix"
   ]
  },
  {
   "cell_type": "markdown",
   "metadata": {},
   "source": [
    "## 1. Sequence Quality\n",
    "Because the quality of the sequence data produced my high throughput sequencing varies between runs and samples it is important to look at the sequence quality and possibly filter sequences or samples where the qulaity is low. A more detailed description of the fastq format and quality scores can be found [here](http://scikit-bio.org/docs/latest/generated/skbio.io.format.fastq.html?highlight=fastq#module-skbio.io.format.fastq). Quality scores themselves are difficult to decipher, so we can use scikit-bio to decode the scores for us. Here we load the sequence data into a generator with scikit-bio."
   ]
  },
  {
   "cell_type": "code",
   "execution_count": null,
   "metadata": {
    "collapsed": false
   },
   "outputs": [],
   "source": [
    "f = '1AM1JR7QWMSFA.fastq'\n",
    "seqs = skbio.io.read(f, format='fastq', verify=False, variant='illumina1.8')"
   ]
  },
  {
   "cell_type": "markdown",
   "metadata": {},
   "source": [
    "We can view one of the `skbio.sequence._sequence.Sequence` entries in the generator object. This will display the sequence data and associated metadata. "
   ]
  },
  {
   "cell_type": "code",
   "execution_count": null,
   "metadata": {
    "collapsed": false
   },
   "outputs": [],
   "source": [
    "seq1 = seqs.__next__()\n",
    "seq1"
   ]
  },
  {
   "cell_type": "markdown",
   "metadata": {},
   "source": [
    "We can also view the sequence quality data (or slice) for a given sequence"
   ]
  },
  {
   "cell_type": "code",
   "execution_count": null,
   "metadata": {
    "collapsed": false
   },
   "outputs": [],
   "source": [
    "seq1.positional_metadata.quality[:10]"
   ]
  },
  {
   "cell_type": "markdown",
   "metadata": {},
   "source": [
    "Looking through sequence quality on a per-sequence basis is tedious and it would be diffult to decipher meaningful patterns, plotting the data is a  better solution. In order to create a meaningful plot we will first create a `pd.DataFrame` object of the quality scores. Due to limitations in data size and because a subset of our data will fairly accurately represent the quality of the full data set we will only look at athe first 500 sequences in our data set."
   ]
  },
  {
   "cell_type": "code",
   "execution_count": null,
   "metadata": {
    "collapsed": false
   },
   "outputs": [],
   "source": [
    "seqs = skbio.io.read(f, format='fastq', verify=False, variant='illumina1.8')\n",
    "\n",
    "df = pd.DataFrame()\n",
    "num_sequences = 500\n",
    "\n",
    "for count, seq in enumerate(itertools.islice(seqs, num_sequences)):\n",
    "    df[count] = seq.positional_metadata.quality"
   ]
  },
  {
   "cell_type": "markdown",
   "metadata": {},
   "source": [
    "Now that we have a dataframe with all of our quality scores it is easy to visualize with plotly. \n",
    "\n",
    "We can improve upon a basic boxplot by defining a specific color scheme. Fastq quality scores range from 0-40, and poor quality is often considered to be anything less then 20. Given this we will define a diverging colormap where an average quality score of below 20 will a shade of red and anything above will be a shade of blue. (20 will be yellow). This will help with the interpretation where quality scores are poor.  "
   ]
  },
  {
   "cell_type": "markdown",
   "metadata": {},
   "source": [
    "First define the colormap using color lover"
   ]
  },
  {
   "cell_type": "code",
   "execution_count": null,
   "metadata": {
    "collapsed": false
   },
   "outputs": [],
   "source": [
    "purd = cl.scales['11']['div']['RdYlBu']\n",
    "purd40 = cl.interp(purd, 40)"
   ]
  },
  {
   "cell_type": "markdown",
   "metadata": {},
   "source": [
    "Now we can make boxplots of the quality scores on a per base basis"
   ]
  },
  {
   "cell_type": "code",
   "execution_count": null,
   "metadata": {
    "collapsed": false
   },
   "outputs": [],
   "source": [
    "traces = []\n",
    "for e in range(len(df)):\n",
    "    traces.append(go.Box(\n",
    "        y=df.iloc[e].values,\n",
    "        name=e,\n",
    "        boxpoints='none',\n",
    "        whiskerwidth=0.2,\n",
    "        marker=dict(\n",
    "            size=.1,\n",
    "            color=purd40[int(round(df.iloc[e].mean(), 0))]\n",
    "        ),\n",
    "        line=dict(width=1),\n",
    "    ))\n",
    "\n",
    "layout = go.Layout(\n",
    "    title='Quality Score Distributions',\n",
    "    yaxis=dict(\n",
    "        title='Quality',\n",
    "        autorange=True,\n",
    "        showgrid=True,\n",
    "        zeroline=True,\n",
    "        gridcolor='#d9d4d3',\n",
    "        zerolinecolor='#d9d4d3',\n",
    "    ),\n",
    "    xaxis=dict(\n",
    "        title='Base Position',\n",
    "    ),\n",
    "\n",
    "    font=dict(family='Times New Roman', size=16, color='#2e1c18'),\n",
    "    paper_bgcolor='#eCe9e9',\n",
    "    plot_bgcolor='#eCe9e9'\n",
    ")\n",
    "\n",
    "fig = go.Figure(data=traces, layout=layout)\n",
    "py.iplot(fig)"
   ]
  },
  {
   "cell_type": "markdown",
   "metadata": {},
   "source": [
    "We now have box plots of the quality of each base for the first 500 sequences. We can see that the quality of the first ten bases is slightly lower and then increases and that the quality drops off after 225 bases. This is normal for our type of data and overall these scores are quite good meaning that we do not need to filter or trim the sequences. If the data was of very poor quality filtering or trimming would be neccessary."
   ]
  },
  {
   "cell_type": "markdown",
   "metadata": {},
   "source": [
    "## 2. Sequence Alignment\n",
    "One of the most important steps in bioinformatics is sequence alignment. Aligneing sequences helps us to understand the relationship between pairs or many sequences, it allows us to identify specific bases or regions that vary between sequences and can be used to discover novel sequences. For the purpose of the notebook we will use the global pariwise aligner from `skbio` this is known to be slow and should be updated soon. If you are aligning more than a few sequnces, there are other faster aligners that would be preferrable such as [MAFFT](http://mafft.cbrc.jp/alignment/software/). [QIIME2](https://docs.qiime2.org/2.0.6/) provides a convenient set of tools that wrap aligners such as MAFFT."
   ]
  },
  {
   "cell_type": "markdown",
   "metadata": {},
   "source": [
    "Once again we load out sequences using scikit-bio. Here we will only load the first two sequences in order to illustrate pairwise alignment."
   ]
  },
  {
   "cell_type": "code",
   "execution_count": null,
   "metadata": {
    "collapsed": false
   },
   "outputs": [],
   "source": [
    "seqs = [DNA(e) for e in itertools.islice(skbio.io.read(f, format='fastq', variant='illumina1.8'), 2)]"
   ]
  },
  {
   "cell_type": "markdown",
   "metadata": {},
   "source": [
    "### Align the first two sets of sequences using scikit-bio\n",
    "This is slow, and really only appropriate for educational purposes. In fact scikit-bio will generate a warning to this effect. You can find more informatio about the scikit-bio aligner in this github [issue](https://github.com/biocore/scikit-bio/issues/254)"
   ]
  },
  {
   "cell_type": "code",
   "execution_count": null,
   "metadata": {
    "collapsed": false
   },
   "outputs": [],
   "source": [
    "aligned_seqs = global_pairwise_align_nucleotide(seqs[0], seqs[1])\n",
    "aligned_seqs"
   ]
  },
  {
   "cell_type": "markdown",
   "metadata": {},
   "source": [
    "### [Given the slow nature of the alignment the commented code may not need be included in the notebook]\n",
    "Because the alignment is slow, the actual code used to genereate the alignment is commented out and a pre-made alignment is loaded using scikit-bio"
   ]
  },
  {
   "cell_type": "code",
   "execution_count": null,
   "metadata": {
    "collapsed": false
   },
   "outputs": [],
   "source": [
    "# from iab.algorithms import progressive_msa\n",
    "# from functools import partial\n",
    "# f = 'run1_16s/rev_seqs/1AM1JR7QWMSFA.fastq'\n",
    "# seqs = [DNA(e) for e in itertools.islice(skbio.io.read(f, format='fastq', verify=False, variant='illumina1.8'), 10)]\n",
    "# seqs = [e for e in seqs if not e.has_degenerates()]\n",
    "# msa = progressive_msa(seqs, global_pairwise_align_nucleotide)\n",
    "# msa.write('msa10.fna')\n",
    "msa = skbio.alignment.TabularMSA.read('msa10.fna', constructor=DNA)"
   ]
  },
  {
   "cell_type": "markdown",
   "metadata": {},
   "source": [
    "In order to create a meaningful visualization of the multiple sequence alignment we can use heatmap functionality of plotly"
   ]
  },
  {
   "cell_type": "markdown",
   "metadata": {},
   "source": [
    "First we assign a numeric value to each possible character in our alignment, \"A\", \"T\", \"G\", \"C\", and \"-\""
   ]
  },
  {
   "cell_type": "code",
   "execution_count": null,
   "metadata": {
    "collapsed": false
   },
   "outputs": [],
   "source": [
    "base_dic = {'A': 1, 'C': .25, 'G': .5, 'T': .75, '-': 0}"
   ]
  },
  {
   "cell_type": "markdown",
   "metadata": {},
   "source": [
    "Next we define a function that takes an alignment and returns two, two-dimensional arrays, one of the characters in the alignment and one of the numerica value that represents the character. The numeric value will be used to define the color in the heatmap. The function below will create a color map of the alignment such the only bases that will colored differently are bases that are *different* from the first sequence. This will make identifying differences in sequences much easier. If each based was given a unique color regardless of it's relationship to other sequences the plot would be noisy and difficult to interpret"
   ]
  },
  {
   "cell_type": "code",
   "execution_count": null,
   "metadata": {
    "collapsed": false
   },
   "outputs": [],
   "source": [
    "def seq_align_for_plot(msa):\n",
    "    base_text = [list(str(e)) for e in msa]\n",
    "    base_values = np.zeros((len(base_text), len(base_text[0])))\n",
    "    for i in range(len(base_text[0])):\n",
    "        for j in range(len(base_text)):\n",
    "            if base_text[j][i] != base_text[0][i]:\n",
    "                base_values[j][i] = base_dic[base_text[j][i]]\n",
    "    return(base_text, base_values)"
   ]
  },
  {
   "cell_type": "code",
   "execution_count": null,
   "metadata": {
    "collapsed": true
   },
   "outputs": [],
   "source": [
    "base_text, base_values = seq_align_for_plot(msa)"
   ]
  },
  {
   "cell_type": "markdown",
   "metadata": {},
   "source": [
    "We define a colorscale where the values for each base is given a defined color"
   ]
  },
  {
   "cell_type": "code",
   "execution_count": null,
   "metadata": {
    "collapsed": true
   },
   "outputs": [],
   "source": [
    "colorscale=[[0.00, '#F4F0E4'], \n",
    "            [0.25, '#1b9e77'], \n",
    "            [0.50, '#d95f02'], \n",
    "            [0.75, '#7570b3'],\n",
    "            [1.00, '#e7298a']]"
   ]
  },
  {
   "cell_type": "markdown",
   "metadata": {},
   "source": [
    "Finally we can plot the alignment"
   ]
  },
  {
   "cell_type": "code",
   "execution_count": null,
   "metadata": {
    "collapsed": false
   },
   "outputs": [],
   "source": [
    "fig = FF.create_annotated_heatmap(base_values, \n",
    "                                  annotation_text=base_text, \n",
    "                                  colorscale=colorscale)\n",
    "\n",
    "fig['layout'].update(\n",
    "    title=\"Aligned Sequences\",\n",
    "    xaxis=dict(ticks='', \n",
    "               side='top',\n",
    "               ticktext=list(np.arange(0, len(base_text[0]), 10)),\n",
    "               tickvals=list(np.arange(0, len(base_text[0]), 10)),\n",
    "               showticklabels=True,\n",
    "               tickfont=dict(family='Bookman', \n",
    "                             size=18, \n",
    "                             color='#22293B',\n",
    "                            ),\n",
    "              ),\n",
    "    \n",
    "    yaxis=dict(autorange='reversed',\n",
    "               ticks='', \n",
    "               ticksuffix='  ',\n",
    "               ticktext=[\"Seq \" + str(e + 1) for e in range(len(base_text))],\n",
    "               tickvals=list(np.arange(0, len(base_text))),\n",
    "               showticklabels=True,\n",
    "               tickfont=dict(family='Bookman', \n",
    "                         size=18, \n",
    "                         color='22293B',\n",
    "                            ),\n",
    "              ),\n",
    "    width=10000,\n",
    "    height=450,\n",
    "    autosize=True,\n",
    "    annotations=dict(font=dict(family='Courier New, monospace',\n",
    "                                size=14,\n",
    "                                color='#3f566d'\n",
    "                               ),\n",
    "                      )\n",
    ")\n",
    "py.iplot(fig)"
   ]
  },
  {
   "cell_type": "markdown",
   "metadata": {
    "collapsed": true
   },
   "source": [
    "## Tree Building"
   ]
  },
  {
   "cell_type": "markdown",
   "metadata": {},
   "source": [
    "Another common task in bionformatics is phylogenetic reconstruction. In order to illustrate this we are going to compare the distance between sequences using hamming distance (the number of absolute differences between a pair of sequences. The scikit-bio implementation gives the ration of differences to length of the sequences. There are many ways to measure distance between two pairs of sequences and any function that takes two arguments and returns a float representing the distance between them may be used."
   ]
  },
  {
   "cell_type": "markdown",
   "metadata": {},
   "source": [
    "Using scikit-bio we will first create a distance matrix between all of our pairs of sequences. Because we are using hamming we will use the aligned sequences to create our distance matrix. "
   ]
  },
  {
   "cell_type": "code",
   "execution_count": null,
   "metadata": {
    "collapsed": false
   },
   "outputs": [],
   "source": [
    "from skbio.sequence.distance import hamming\n",
    "from skbio.stats.distance import DistanceMatrix\n",
    "hamming_dm = DistanceMatrix.from_iterable(msa, metric=hamming, key='id')"
   ]
  },
  {
   "cell_type": "markdown",
   "metadata": {},
   "source": [
    "Now that we have a distance matrix of the sequences we could use the heatmap functionality of plotly to visualize out data"
   ]
  },
  {
   "cell_type": "code",
   "execution_count": null,
   "metadata": {
    "collapsed": false
   },
   "outputs": [],
   "source": [
    "colorscale = [[0.0,'#4bd4d1'], [0.5, '#1c9099']]  # custom colorscale\n",
    "['#ece2f0','#a6bddb','#1c9099']\n",
    "trace = go.Heatmap(x=hamming_dm.ids, y=hamming_dm.ids, z=hamming_dm.data, colorscale='Viridis')\n",
    "\n",
    "fig = go.Figure(data=[trace])\n",
    "\n",
    "fig['layout'].update(\n",
    "    xaxis=dict(ticks=''),\n",
    "    yaxis=dict(ticks='', ticksuffix='  '),\n",
    "    width=700,\n",
    "    height=700,\n",
    "    autosize=False,\n",
    "    margin=go.Margin(\n",
    "        l=200,\n",
    "        b=200,\n",
    "        pad=4\n",
    "    )\n",
    ")\n",
    "py.iplot(fig)"
   ]
  },
  {
   "cell_type": "markdown",
   "metadata": {},
   "source": [
    "The heat map while visualy appealing does not reveal the structure or our data as well as we might hope. A better representation can be given with a dendrogram"
   ]
  },
  {
   "cell_type": "markdown",
   "metadata": {},
   "source": [
    "### Note: \n",
    "Due to the nature of the distance calculations some of the sequenes were calculated to have a distance of 0 from each other. We can see from the multiple sequence alignment above that there are no sequences that are identical (if they were identical we would want to collapse them into a single tip in the tree). Because we can't have a branch length of 0 we will add a small amount to all of the distances, which will give a visually more accurate tree."
   ]
  },
  {
   "cell_type": "code",
   "execution_count": null,
   "metadata": {
    "collapsed": true
   },
   "outputs": [],
   "source": [
    "hamming_array = hamming_dm.data + .001\n",
    "np.fill_diagonal(hamming_array, 0)\n",
    "names = hamming_dm.ids"
   ]
  },
  {
   "cell_type": "markdown",
   "metadata": {},
   "source": [
    "Now we can plot our data using the dendrogram functionality of plotly. The plot below makes the assumption that sequences belong to one of two arbitrarily defined groups. In reality the groups may be related to the origin of the sequences (i.e., they came from different samples). We will also color any node that does not lead to a terminal node a differe color "
   ]
  },
  {
   "cell_type": "code",
   "execution_count": null,
   "metadata": {
    "collapsed": false
   },
   "outputs": [],
   "source": [
    "names = [\"Seq \" + str(e + 1) for e in range(len(hamming_array))]\n",
    "fig = FF.create_dendrogram(hamming_array.data, \n",
    "                           orientation='right',\n",
    "                           labels=names)\n",
    "\n",
    "\n",
    "fig['layout'].update(\n",
    "    width=500,\n",
    "    height=700,                     \n",
    ")\n",
    "\n",
    "fig['layout']['yaxis'].update(dict(side='right', \n",
    "                                   showline=False,\n",
    "                                   ticks='',\n",
    "                                   zeroline=True,\n",
    "                                   zerolinewidth=4,\n",
    "                                   zerolinecolor='#969696')\n",
    "                              )\n",
    "\n",
    "fig['layout']['xaxis'].update(dict(showline=False,\n",
    "                                   showticklabels=True,\n",
    "                                   ticktext=np.array(['0.0', '0.2', '0.4', '0.6', '0.8']),\n",
    "                                   tickvals=[-0.8, -0.6, -0.4, -0.2, -0.0],\n",
    "                                   tickfont=dict(color='#969696'),\n",
    "                                   mirror=None,\n",
    "                                   ticklen=8,\n",
    "                                   tickwidth=4,\n",
    "                                   tickcolor='#969696',\n",
    "                                   range=[-0.9, 0.1])\n",
    "                             )\n",
    "tips = []\n",
    "for i in fig['data']:\n",
    "    if 0 in i['x']:\n",
    "        i['marker']['color'] = '#ffbe4f'\n",
    "    else:\n",
    "        i['marker']['color'] = '#0c457d'\n",
    "        \n",
    "group1 = ['Seq 1', 'Seq 7', 'Seq 9', 'Seq 3']\n",
    "group2 = ['Seq 2', 'Seq 4', 'Seq 5', 'Seq 6', 'Seq 8']\n",
    "\n",
    "for i in range(len(names)):\n",
    "    if fig['layout']['yaxis']['ticktext'][i] in group1:\n",
    "        color = '#e8702a'\n",
    "        symbol = 'circle'\n",
    "    else:\n",
    "        color = '#0ea7b5'\n",
    "        symbol = 'triangle-left'\n",
    "        \n",
    "    x = [-0.0]\n",
    "    y = [fig['layout']['yaxis']['tickvals'][i]]\n",
    "    trace = go.Scatter(x=x, y=y, \n",
    "                       mode='markers',\n",
    "                       marker=dict(\n",
    "                            size=10,\n",
    "                            color=color,\n",
    "                            symbol=symbol)\n",
    "                      )\n",
    "    fig['data'].append(trace)\n",
    "\n",
    "py.iplot(fig)"
   ]
  }
 ],
 "metadata": {
  "kernelspec": {
   "display_name": "Python 3",
   "language": "python",
   "name": "python3"
  },
  "language_info": {
   "codemirror_mode": {
    "name": "ipython",
    "version": 3
   },
   "file_extension": ".py",
   "mimetype": "text/x-python",
   "name": "python",
   "nbconvert_exporter": "python",
   "pygments_lexer": "ipython3",
   "version": "3.5.2"
  }
 },
 "nbformat": 4,
 "nbformat_minor": 0
}
